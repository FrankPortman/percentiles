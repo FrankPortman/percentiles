{
 "cells": [
  {
   "cell_type": "code",
   "execution_count": 13,
   "metadata": {
    "collapsed": true,
    "deletable": true,
    "editable": true
   },
   "outputs": [],
   "source": [
    "%matplotlib inline\n",
    "import numpy as N\n",
    "import pandas as P"
   ]
  },
  {
   "cell_type": "markdown",
   "metadata": {
    "deletable": true,
    "editable": true
   },
   "source": [
    "# Let's Talk About Percentiles\n",
    "\n",
    "The purpose of this notebook is to illustrate some of the unintuitive but profoundly impactful statistics of percentile estimation.\n",
    "\n",
    "It's obvious to most engineers how important percentiles are to operating services. But it's not obvious how dramatically results can differ depending on how percentiles are calculated.\n",
    "\n",
    "Using theory and some real world examples, I'll try to demonstrate why percentile statistics behave so unintuitively and how subtle differences in method can profoundly impact your numbers. In the process, I'll offer some pointers for avoiding these pitfalls."
   ]
  },
  {
   "cell_type": "markdown",
   "metadata": {},
   "source": [
    "## In which we define an SLA\n",
    "\n",
    "Let's start with a common problem—measuring latency.\n",
    "\n",
    "Suppose service x advertises that it can serve requests with a p99 of 100ms. That's not bad! They prove this to you by showing you a grafana dashboard that might look something like this:\n",
    "\n",
    "<img src=\"grafana.png\" width=50% height=50%>\n",
    "\n",
    "We all know dashboards never lie so you take their word for it. You shake hands on the proposed SLA and began to integrate against their service.\n",
    "\n",
    "Since you're a responsible engineer, however, you instrument calls to their service anyway. What you see surprises you—their p99s are actually far higher than what their dashboard reports, and often exceeds their SLA!\n",
    "\n",
    "Angrily, you stomp over to their pod and show them your findings.\n",
    "\n",
    "\"It must be network overhead or something wrong with your instrumentation,\" they respond, which just makes your blood boil.\n",
    "\n",
    "\"My instrumentation is perfect,\" you respond. \"The problem is your service.\"\n",
    "\n",
    "It turns out you're both wrong. The culprit was actually math."
   ]
  },
  {
   "cell_type": "markdown",
   "metadata": {},
   "source": [
    "## The Dataset\n",
    "The rest of this notebook will transform and sample latency numbers to supplement theory, so we use this section to generate and analyze the dataset.\n",
    "\n",
    "Since I'm too lazy to collect actual latency numbers, I'm going to make the assumption that latencies follow a power law distribution—that is, there's a long tail of very slow latencies.\n",
    "\n",
    "In reality, this is a good enough model of real world latencies for our purposes."
   ]
  },
  {
   "cell_type": "code",
   "execution_count": 136,
   "metadata": {
    "collapsed": false
   },
   "outputs": [],
   "source": [
    "df = P.DataFrame(N.random.power(0.2, 100000) * 110).round(2)"
   ]
  },
  {
   "cell_type": "markdown",
   "metadata": {},
   "source": [
    "So we have a dataframe with 1 million latencies, a max of 110 ms distributed via the power law. Let's see how that looks in a histogram:"
   ]
  },
  {
   "cell_type": "code",
   "execution_count": 137,
   "metadata": {
    "collapsed": false
   },
   "outputs": [
    {
     "data": {
      "text/plain": [
       "array([[<matplotlib.axes._subplots.AxesSubplot object at 0x1149422d0>]], dtype=object)"
      ]
     },
     "execution_count": 137,
     "metadata": {},
     "output_type": "execute_result"
    },
    {
     "data": {
      "image/png": "[encoded data removed]",
      "text/plain": [
       "<matplotlib.figure.Figure at 0x114930150>"
      ]
     },
     "metadata": {},
     "output_type": "display_data"
    }
   ],
   "source": [
    "df.hist()"
   ]
  },
  {
   "cell_type": "markdown",
   "metadata": {},
   "source": [
    "What about its median and p99?"
   ]
  },
  {
   "cell_type": "code",
   "execution_count": 138,
   "metadata": {
    "collapsed": false
   },
   "outputs": [
    {
     "data": {
      "text/html": [
       "<div>\n",
       "<table border=\"1\" class=\"dataframe\">\n",
       "  <thead>\n",
       "    <tr style=\"text-align: right;\">\n",
       "      <th></th>\n",
       "      <th>0</th>\n",
       "    </tr>\n",
       "  </thead>\n",
       "  <tbody>\n",
       "    <tr>\n",
       "      <th>count</th>\n",
       "      <td>100000.000000</td>\n",
       "    </tr>\n",
       "    <tr>\n",
       "      <th>mean</th>\n",
       "      <td>18.306192</td>\n",
       "    </tr>\n",
       "    <tr>\n",
       "      <th>std</th>\n",
       "      <td>27.649308</td>\n",
       "    </tr>\n",
       "    <tr>\n",
       "      <th>min</th>\n",
       "      <td>0.000000</td>\n",
       "    </tr>\n",
       "    <tr>\n",
       "      <th>50%</th>\n",
       "      <td>3.400000</td>\n",
       "    </tr>\n",
       "    <tr>\n",
       "      <th>99%</th>\n",
       "      <td>104.750100</td>\n",
       "    </tr>\n",
       "    <tr>\n",
       "      <th>max</th>\n",
       "      <td>109.990000</td>\n",
       "    </tr>\n",
       "  </tbody>\n",
       "</table>\n",
       "</div>"
      ],
      "text/plain": [
       "                   0\n",
       "count  100000.000000\n",
       "mean       18.306192\n",
       "std        27.649308\n",
       "min         0.000000\n",
       "50%         3.400000\n",
       "99%       104.750100\n",
       "max       109.990000"
      ]
     },
     "execution_count": 138,
     "metadata": {},
     "output_type": "execute_result"
    }
   ],
   "source": [
    "df.describe(percentiles=[.99])"
   ]
  },
  {
   "cell_type": "markdown",
   "metadata": {},
   "source": [
    "## The Law of Large Numbers\n",
    "\n",
    "Before we continue with our story, let's review some stats.\n",
    "\n",
    "You may recall from school that there's a handy thing called the [Law of large numbers](https://en.wikipedia.org/wiki/Law_of_large_numbers). The LLN basically says this: The average of a large enough sample will be pretty close to the \"real\" average, give or take some error.\n",
    "\n",
    "This is pretty handy for measuring a lot of things—it means that even a relatively small sample can give us a pretty good measure of the population average.\n",
    "\n",
    "Let's test this on our dataset."
   ]
  },
  {
   "cell_type": "code",
   "execution_count": 142,
   "metadata": {
    "collapsed": false
   },
   "outputs": [
    {
     "data": {
      "text/plain": [
       "0    17.3088\n",
       "dtype: float64"
      ]
     },
     "execution_count": 142,
     "metadata": {},
     "output_type": "execute_result"
    }
   ],
   "source": [
    "df.sample(50).mean()"
   ]
  },
  {
   "cell_type": "markdown",
   "metadata": {},
   "source": [
    "Not bad. Even with a sample of .05% of the population, we got a pretty close estimate of population mean.\n",
    "\n",
    "Could've been a fluke. Let's do this procedure 75 more times:"
   ]
  },
  {
   "cell_type": "code",
   "execution_count": 143,
   "metadata": {
    "collapsed": false
   },
   "outputs": [
    {
     "data": {
      "text/plain": [
       "0    18.386895\n",
       "dtype: float64"
      ]
     },
     "execution_count": 143,
     "metadata": {},
     "output_type": "execute_result"
    }
   ],
   "source": [
    "mean_samples = P.DataFrame([df.sample(50).mean() for _ in range(1000)])\n",
    "mean_samples.mean()"
   ]
  },
  {
   "cell_type": "markdown",
   "metadata": {},
   "source": [
    "Nice, the average of all of our sample averages is pretty damn close to the real average. This is the law of large numbers in action!"
   ]
  },
  {
   "cell_type": "markdown",
   "metadata": {},
   "source": [
    "## Percentiles are trickier\n",
    "\n",
    "Unfortunately, the law of large numbers doesn't apply to percentiles. As proof, let's try the same procedure, but for the 99th percentile. As a reminder, the \"real\" p99 of our dataset is this:"
   ]
  },
  {
   "cell_type": "code",
   "execution_count": 145,
   "metadata": {
    "collapsed": false
   },
   "outputs": [
    {
     "data": {
      "text/plain": [
       "104.75009999999995"
      ]
     },
     "execution_count": 145,
     "metadata": {},
     "output_type": "execute_result"
    }
   ],
   "source": [
    "float(df.quantile(.99))"
   ]
  },
  {
   "cell_type": "markdown",
   "metadata": {},
   "source": [
    "So what happens if we get the p99 of a sample?"
   ]
  },
  {
   "cell_type": "code",
   "execution_count": 146,
   "metadata": {
    "collapsed": false
   },
   "outputs": [
    {
     "data": {
      "text/plain": [
       "0    94.2888\n",
       "Name: 0.99, dtype: float64"
      ]
     },
     "execution_count": 146,
     "metadata": {},
     "output_type": "execute_result"
    }
   ],
   "source": [
    "df.sample(50).quantile(.99)"
   ]
  },
  {
   "cell_type": "markdown",
   "metadata": {},
   "source": [
    "Hm, seems a little off. What if we repeat this procedure a bunch of times?"
   ]
  },
  {
   "cell_type": "code",
   "execution_count": 148,
   "metadata": {
    "collapsed": false
   },
   "outputs": [
    {
     "data": {
      "text/plain": [
       "0    95.015978\n",
       "dtype: float64"
      ]
     },
     "execution_count": 148,
     "metadata": {},
     "output_type": "execute_result"
    }
   ],
   "source": [
    "P.DataFrame(df.sample(50).quantile(.99) for _ in range(1000)).mean()"
   ]
  },
  {
   "cell_type": "markdown",
   "metadata": {},
   "source": [
    "The average of our percentiles doesn't converge to the actual p99! The average of many percentile estimates isn't the real value, unlike with the mean.\n",
    "\n",
    "Ok, but what if we vary our sample size?"
   ]
  },
  {
   "cell_type": "code",
   "execution_count": 150,
   "metadata": {
    "collapsed": false
   },
   "outputs": [
    {
     "data": {
      "text/plain": [
       "0    99.787503\n",
       "dtype: float64"
      ]
     },
     "execution_count": 150,
     "metadata": {},
     "output_type": "execute_result"
    }
   ],
   "source": [
    "# 100 samples:\n",
    "P.DataFrame(df.sample(100).quantile(.99) for _ in range(1000)).mean()"
   ]
  },
  {
   "cell_type": "code",
   "execution_count": 151,
   "metadata": {
    "collapsed": false
   },
   "outputs": [
    {
     "data": {
      "text/plain": [
       "0    103.774149\n",
       "dtype: float64"
      ]
     },
     "execution_count": 151,
     "metadata": {},
     "output_type": "execute_result"
    }
   ],
   "source": [
    "# 500 samples:\n",
    "P.DataFrame(df.sample(500).quantile(.99) for _ in range(1000)).mean()"
   ]
  },
  {
   "cell_type": "code",
   "execution_count": 153,
   "metadata": {
    "collapsed": false
   },
   "outputs": [
    {
     "data": {
      "text/plain": [
       "0    104.182944\n",
       "dtype: float64"
      ]
     },
     "execution_count": 153,
     "metadata": {},
     "output_type": "execute_result"
    }
   ],
   "source": [
    "# 1000 samples\n",
    "P.DataFrame(df.sample(1000).quantile(.99) for _ in range(1000)).mean()"
   ]
  },
  {
   "cell_type": "markdown",
   "metadata": {},
   "source": [
    "Finally, at about 1000 samples, we have an estimate of the p99 with a reasonable amount of error."
   ]
  },
  {
   "cell_type": "markdown",
   "metadata": {},
   "source": [
    "## So what's happening?\n",
    "\n",
    "Let's review what just happened. Two things are worth noting:\n",
    "\n",
    "1. Our small sample underestimated the real p99 by 10%!\n",
    "2. As we increased the sample size, we continued to underestimate. However, error decreased.\n",
    "\n",
    "The intuition for this phenomenon is simple. It's harder for samples to capture the full range of data since they only have a fraction of the p"
   ]
  },
  {
   "cell_type": "markdown",
   "metadata": {},
   "source": [
    "## So who cares?"
   ]
  },
  {
   "cell_type": "markdown",
   "metadata": {},
   "source": [
    "Unavoidably, you'll explain this phenomenon to someone and they'll tell you that the effect is negligible. In some cases they may be right, so keep an open mind and remember what your requirements are.\n",
    "\n",
    "In most cases they are egregiously underestimating how much error is being introduced.\n",
    "\n",
    "Let's talk about a few real world cases."
   ]
  }
 ],
 "metadata": {
  "kernelspec": {
   "display_name": "Python 2",
   "language": "python",
   "name": "python2"
  },
  "language_info": {
   "codemirror_mode": {
    "name": "ipython",
    "version": 2
   },
   "file_extension": ".py",
   "mimetype": "text/x-python",
   "name": "python",
   "nbconvert_exporter": "python",
   "pygments_lexer": "ipython2",
   "version": "2.7.12"
  }
 },
 "nbformat": 4,
 "nbformat_minor": 2
}
